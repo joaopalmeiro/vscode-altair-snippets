{
 "cells": [
  {
   "cell_type": "code",
   "execution_count": null,
   "id": "3e9b0a70-b807-4928-a24f-7939960a8124",
   "metadata": {},
   "outputs": [],
   "source": [
    "import altair as alt\n",
    "import pandas as pd"
   ]
  },
  {
   "cell_type": "markdown",
   "id": "a8e36e8a-be87-46ca-a6b0-4082511408f8",
   "metadata": {},
   "source": [
    "`usermeta.embedOptions`\n",
    "\n",
    "- https://github.com/vega/vega-embed#options\n",
    "- https://code.visualstudio.com/docs/editor/userdefinedsnippets#_tabstops"
   ]
  },
  {
   "cell_type": "code",
   "execution_count": null,
   "id": "808a09ec-be95-47f9-8986-2546d7cde82d",
   "metadata": {},
   "outputs": [],
   "source": [
    "metadata = {\n",
    "    \"embedOptions\": {\n",
    "        \"renderer\": \"svg\",\n",
    "        \"actions\": {\n",
    "            \"export\": True,\n",
    "            \"source\": False,\n",
    "            \"compiled\": False,\n",
    "            \"editor\": False,\n",
    "        },\n",
    "        \"i18n\": {\"PNG_ACTION\": \"Export as PNG\", \"SVG_ACTION\": \"Export as SVG\"},\n",
    "        \"scaleFactor\": 5,\n",
    "        \"downloadFileName\": \"$1\",\n",
    "    }\n",
    "}"
   ]
  },
  {
   "cell_type": "code",
   "execution_count": null,
   "id": "4ad7c1ee-7477-466d-9004-0e551d2d25dd",
   "metadata": {},
   "outputs": [],
   "source": [
    "source = pd.DataFrame(\n",
    "    {\n",
    "        \"a\": [\"A\", \"B\", \"C\", \"D\", \"E\", \"F\", \"G\", \"H\", \"I\"],\n",
    "        \"b\": [28, 55, 43, 91, 81, 53, 19, 87, 52],\n",
    "    }\n",
    ")\n",
    "\n",
    "alt.Chart(source).mark_bar().encode(x=\"a\", y=\"b\").properties(usermeta=metadata)"
   ]
  },
  {
   "cell_type": "code",
   "execution_count": null,
   "id": "ab6233dd-0b83-44c8-bf78-a156bf60a5df",
   "metadata": {},
   "outputs": [],
   "source": [
    "# alt.Chart().mark_bar().encode().properties(usermeta=metadata)\n",
    "alt.Chart(source).mark_bar().encode().properties(usermeta=metadata)"
   ]
  },
  {
   "cell_type": "markdown",
   "id": "2185cac9-e8b7-491c-bd3a-ba546427a43d",
   "metadata": {},
   "source": [
    "---"
   ]
  }
 ],
 "metadata": {
  "kernelspec": {
   "display_name": "Python 3 (ipykernel)",
   "language": "python",
   "name": "python3"
  },
  "language_info": {
   "codemirror_mode": {
    "name": "ipython",
    "version": 3
   },
   "file_extension": ".py",
   "mimetype": "text/x-python",
   "name": "python",
   "nbconvert_exporter": "python",
   "pygments_lexer": "ipython3",
   "version": "3.8.12"
  }
 },
 "nbformat": 4,
 "nbformat_minor": 5
}
